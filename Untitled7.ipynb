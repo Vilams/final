{
 "cells": [
  {
   "cell_type": "code",
   "execution_count": null,
   "id": "09fad912",
   "metadata": {},
   "outputs": [],
   "source": [
    "item1 = 'Phone'\n",
    "item1_prise = 100\n",
    "item1_quantite = 5\n",
    "item1_prise_total=item1_prise*item1_quantite\n",
    "\n",
    "print(type(item1))\n",
    "print(type(item1_prise))\n",
    "print(type(item1_quantite))\n",
    "print(type(item1_prise_total))"
   ]
  },
  {
   "cell_type": "markdown",
   "id": "fa610afa",
   "metadata": {},
   "source": [
    "Класс в \n",
    "python можно счиать некоторую структуру, по которой конструируется его экземпляры. "
   ]
  },
  {
   "cell_type": "markdown",
   "id": "876249aa",
   "metadata": {},
   "source": [
    "суть(смысл) ООП- создать в програме свой  класс (тип данных), который  бы являлся категорий некого абстарактного множества  объектов, характиристик и наборов операциий для некоторой сущности"
   ]
  },
  {
   "cell_type": "markdown",
   "id": "9b76ef31",
   "metadata": {},
   "source": [
    "метод класса - тоже самое что и функций, толко созднанная внутри класса"
   ]
  },
  {
   "cell_type": "markdown",
   "id": "ebe641ef",
   "metadata": {},
   "source": [
    "при каждом вызове  метода класса или объекта пайтон в качестве первого аргумнета передает текущий объект этого класса "
   ]
  },
  {
   "cell_type": "code",
   "execution_count": null,
   "id": "06e0014a",
   "metadata": {},
   "outputs": [],
   "source": [
    "class Item: # Имя класса принято называть с заклагвной группы, и должнл быть осмыслено. PEP8\n",
    "    pay_rate=0.8\n",
    "    def __init__(self, name: str ,prise,quantite):# конструктор объекта класса Item \n",
    "        assert prise >=0, f'prise{prise} is lower to zero' \n",
    "        self.name = name\n",
    "        self.prise = prise\n",
    "        self.quantite = quantite\n",
    "        #print(f'I AM CREATED:{self.name}')\n",
    "\n",
    "    def calculate_total_prise(self):\n",
    "        return self.prise*self.quantite\n",
    "    def apple(self):\n",
    "        retrn self.prise = self.prise * pay_rate\n",
    "    \n",
    "#item1 = Item('phone', 500,5)\n",
    "#print(item1.prise)\n",
    "#item2 = Item('Laptop', 1000, 4)"
   ]
  },
  {
   "cell_type": "code",
   "execution_count": null,
   "id": "d693e525",
   "metadata": {},
   "outputs": [],
   "source": [
    "item1.apple()"
   ]
  },
  {
   "cell_type": "code",
   "execution_count": null,
   "id": "f1aa5f3d",
   "metadata": {},
   "outputs": [],
   "source": [
    "item1=Item('phone', 500 , 5)\n",
    "print(item1.calculate_total_prise())"
   ]
  },
  {
   "cell_type": "code",
   "execution_count": null,
   "id": "14bc6a73",
   "metadata": {},
   "outputs": [],
   "source": [
    "item2=Item ('Laptop', 1000 , 3)\n",
    "item2.numpad = False "
   ]
  },
  {
   "cell_type": "code",
   "execution_count": null,
   "id": "84cc2b22",
   "metadata": {},
   "outputs": [],
   "source": [
    "print(item2.numpad)"
   ]
  },
  {
   "cell_type": "code",
   "execution_count": null,
   "id": "79380445",
   "metadata": {},
   "outputs": [],
   "source": [
    "print(type(item1))\n",
    "print(item1.prise)"
   ]
  },
  {
   "cell_type": "code",
   "execution_count": 1,
   "id": "8cf1b660",
   "metadata": {},
   "outputs": [],
   "source": [
    "import time as tm\n",
    "class Car ():\n",
    "    def __init__(self,name,model,year,fuel_capasity):\n",
    "        self.name=name\n",
    "        self.model=model\n",
    "        self.year=year\n",
    "        self.fuel_capasity=fuel_capasity\n",
    "        self.fuel_level=0\n",
    "        self.speed=0\n",
    "    def fill_car(self):\n",
    "        self.fuel_level=self.fuel_capasity\n",
    "        print(self.fuel_level)\n",
    "    def drive(self):\n",
    "       while self.fuel_level>0:\n",
    "            \n",
    "            print('wr,wr,wr',f'топливо {self.fuel_level}', f'SPEEEEEEED: {self.speed}')\n",
    "            self.fuel_level-=1\n",
    "            self.speed+= 10\n",
    "            #tm.sleep(1)"
   ]
  },
  {
   "cell_type": "code",
   "execution_count": 2,
   "id": "5945b15f",
   "metadata": {},
   "outputs": [],
   "source": [
    "car1 = Car('Nissan', 'Slvia', 2002, 50)\n"
   ]
  },
  {
   "cell_type": "code",
   "execution_count": 3,
   "id": "aa3ae862",
   "metadata": {},
   "outputs": [
    {
     "name": "stdout",
     "output_type": "stream",
     "text": [
      "50\n"
     ]
    }
   ],
   "source": [
    "car1.fill_car()"
   ]
  },
  {
   "cell_type": "code",
   "execution_count": 4,
   "id": "cb99dc10",
   "metadata": {},
   "outputs": [
    {
     "name": "stdout",
     "output_type": "stream",
     "text": [
      "wr,wr,wr топливо 50 SPEEEEEEED: 0\n",
      "wr,wr,wr топливо 49 SPEEEEEEED: 10\n",
      "wr,wr,wr топливо 48 SPEEEEEEED: 20\n",
      "wr,wr,wr топливо 47 SPEEEEEEED: 30\n",
      "wr,wr,wr топливо 46 SPEEEEEEED: 40\n",
      "wr,wr,wr топливо 45 SPEEEEEEED: 50\n",
      "wr,wr,wr топливо 44 SPEEEEEEED: 60\n",
      "wr,wr,wr топливо 43 SPEEEEEEED: 70\n",
      "wr,wr,wr топливо 42 SPEEEEEEED: 80\n",
      "wr,wr,wr топливо 41 SPEEEEEEED: 90\n",
      "wr,wr,wr топливо 40 SPEEEEEEED: 100\n",
      "wr,wr,wr топливо 39 SPEEEEEEED: 110\n",
      "wr,wr,wr топливо 38 SPEEEEEEED: 120\n",
      "wr,wr,wr топливо 37 SPEEEEEEED: 130\n",
      "wr,wr,wr топливо 36 SPEEEEEEED: 140\n",
      "wr,wr,wr топливо 35 SPEEEEEEED: 150\n",
      "wr,wr,wr топливо 34 SPEEEEEEED: 160\n",
      "wr,wr,wr топливо 33 SPEEEEEEED: 170\n",
      "wr,wr,wr топливо 32 SPEEEEEEED: 180\n",
      "wr,wr,wr топливо 31 SPEEEEEEED: 190\n",
      "wr,wr,wr топливо 30 SPEEEEEEED: 200\n",
      "wr,wr,wr топливо 29 SPEEEEEEED: 210\n",
      "wr,wr,wr топливо 28 SPEEEEEEED: 220\n",
      "wr,wr,wr топливо 27 SPEEEEEEED: 230\n",
      "wr,wr,wr топливо 26 SPEEEEEEED: 240\n",
      "wr,wr,wr топливо 25 SPEEEEEEED: 250\n",
      "wr,wr,wr топливо 24 SPEEEEEEED: 260\n",
      "wr,wr,wr топливо 23 SPEEEEEEED: 270\n",
      "wr,wr,wr топливо 22 SPEEEEEEED: 280\n",
      "wr,wr,wr топливо 21 SPEEEEEEED: 290\n",
      "wr,wr,wr топливо 20 SPEEEEEEED: 300\n",
      "wr,wr,wr топливо 19 SPEEEEEEED: 310\n",
      "wr,wr,wr топливо 18 SPEEEEEEED: 320\n",
      "wr,wr,wr топливо 17 SPEEEEEEED: 330\n",
      "wr,wr,wr топливо 16 SPEEEEEEED: 340\n",
      "wr,wr,wr топливо 15 SPEEEEEEED: 350\n",
      "wr,wr,wr топливо 14 SPEEEEEEED: 360\n",
      "wr,wr,wr топливо 13 SPEEEEEEED: 370\n",
      "wr,wr,wr топливо 12 SPEEEEEEED: 380\n",
      "wr,wr,wr топливо 11 SPEEEEEEED: 390\n",
      "wr,wr,wr топливо 10 SPEEEEEEED: 400\n",
      "wr,wr,wr топливо 9 SPEEEEEEED: 410\n",
      "wr,wr,wr топливо 8 SPEEEEEEED: 420\n",
      "wr,wr,wr топливо 7 SPEEEEEEED: 430\n",
      "wr,wr,wr топливо 6 SPEEEEEEED: 440\n",
      "wr,wr,wr топливо 5 SPEEEEEEED: 450\n",
      "wr,wr,wr топливо 4 SPEEEEEEED: 460\n",
      "wr,wr,wr топливо 3 SPEEEEEEED: 470\n",
      "wr,wr,wr топливо 2 SPEEEEEEED: 480\n",
      "wr,wr,wr топливо 1 SPEEEEEEED: 490\n"
     ]
    }
   ],
   "source": [
    "#for i in range (100):\n",
    "car1.drive()"
   ]
  },
  {
   "cell_type": "code",
   "execution_count": null,
   "id": "9e070c9e",
   "metadata": {},
   "outputs": [],
   "source": []
  },
  {
   "cell_type": "code",
   "execution_count": null,
   "id": "28b7b72b",
   "metadata": {},
   "outputs": [],
   "source": []
  }
 ],
 "metadata": {
  "kernelspec": {
   "display_name": "Python 3",
   "language": "python",
   "name": "python3"
  },
  "language_info": {
   "codemirror_mode": {
    "name": "ipython",
    "version": 3
   },
   "file_extension": ".py",
   "mimetype": "text/x-python",
   "name": "python",
   "nbconvert_exporter": "python",
   "pygments_lexer": "ipython3",
   "version": "3.8.8"
  }
 },
 "nbformat": 4,
 "nbformat_minor": 5
}
